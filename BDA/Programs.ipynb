{
 "cells": [
  {
   "cell_type": "markdown",
   "metadata": {},
   "source": [
    "# Program to Implement Page Rank Algorithm\n"
   ]
  },
  {
   "cell_type": "code",
   "execution_count": 68,
   "metadata": {},
   "outputs": [
    {
     "name": "stdout",
     "output_type": "stream",
     "text": [
      "Enter the number of nodes: 3\n",
      "Enter the transition values of node 1\n",
      "0 1 1\n",
      "Enter the transition values of node 2\n",
      "1 0 0\n",
      "Enter the transition values of node 3\n",
      "1 0 0\n",
      "[[0.48648664]\n",
      " [0.25675678]\n",
      " [0.25675678]]\n"
     ]
    }
   ],
   "source": [
    "import numpy as np\n",
    "n=int(input('Enter the number of nodes: '))\n",
    "y=[]\n",
    "dict1={}\n",
    "beta=0.85\n",
    "for i in range(0,n):\n",
    "    print('Enter the transition values of node {0}'.format(i+1))\n",
    "    x=list(map(int,input().split()))\n",
    "    y.append(x)\n",
    "    dict1.update({i:0})\n",
    "for i in y:\n",
    "    for j in range(0,n):\n",
    "        if(i[j]==1):\n",
    "            dict1[j]+=1\n",
    "for i in range(0,n):\n",
    "    for j in range(0,n):\n",
    "        if dict1[j] !=0:\n",
    "            y[i][j]=y[i][j]/dict1[j]\n",
    "y=np.matrix(y)\n",
    "v_zero=np.ones([n,1])\n",
    "prev=np.ones([n,1])\n",
    "for i in range(1,100):\n",
    "    v_zero=(beta*y*v_zero)+((1-beta)*(np.ones([n,1])/n))\n",
    "    if(prev==v_zero).all():\n",
    "        break\n",
    "    prev=v_zero\n",
    "print(v_zero)\n",
    "\n",
    "        \n",
    "        \n",
    "        "
   ]
  },
  {
   "cell_type": "code",
   "execution_count": 45,
   "metadata": {},
   "outputs": [
    {
     "data": {
      "text/plain": [
       "array([[0.025],\n",
       "       [0.025],\n",
       "       [0.025],\n",
       "       [0.025],\n",
       "       [0.025],\n",
       "       [0.025]])"
      ]
     },
     "execution_count": 45,
     "metadata": {},
     "output_type": "execute_result"
    }
   ],
   "source": [
    "const"
   ]
  },
  {
   "cell_type": "code",
   "execution_count": 57,
   "metadata": {},
   "outputs": [],
   "source": [
    "v_zero=np.ones([1,3])/n"
   ]
  },
  {
   "cell_type": "code",
   "execution_count": 58,
   "metadata": {},
   "outputs": [
    {
     "data": {
      "text/plain": [
       "array([[0.025, 0.025, 0.025]])"
      ]
     },
     "execution_count": 58,
     "metadata": {},
     "output_type": "execute_result"
    }
   ],
   "source": [
    "v_zero*(1-beta)"
   ]
  },
  {
   "cell_type": "code",
   "execution_count": null,
   "metadata": {},
   "outputs": [],
   "source": []
  }
 ],
 "metadata": {
  "kernelspec": {
   "display_name": "Python 3",
   "language": "python",
   "name": "python3"
  },
  "language_info": {
   "codemirror_mode": {
    "name": "ipython",
    "version": 3
   },
   "file_extension": ".py",
   "mimetype": "text/x-python",
   "name": "python",
   "nbconvert_exporter": "python",
   "pygments_lexer": "ipython3",
   "version": "3.7.6"
  }
 },
 "nbformat": 4,
 "nbformat_minor": 4
}
