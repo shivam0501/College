{
 "cells": [
  {
   "cell_type": "markdown",
   "metadata": {},
   "source": [
    "# Program to Implement Page Rank Algorithm\n"
   ]
  },
  {
   "cell_type": "code",
   "execution_count": 3,
   "metadata": {},
   "outputs": [
    {
     "name": "stdout",
     "output_type": "stream",
     "text": [
      "Enter the number of nodes: 2\n",
      "Enter the transition values of node 1\n",
      "0 1\n",
      "Enter the transition values of node 2\n",
      "1 0\n",
      "[<map object at 0x00000244A9E1C7C8>, <map object at 0x00000244A9E1CF08>]\n"
     ]
    }
   ],
   "source": [
    "import numpy as np\n",
    "\n",
    "n=int(input('Enter the number of nodes: '))\n",
    "y=[]\n",
    "for i in range(0,n):\n",
    "    print('Enter the transition values of node {0}'.format(i+1))\n",
    "    x=list(map(int,input().split()))\n",
    "    y.append(x)\n",
    "    \n",
    "        "
   ]
  },
  {
   "cell_type": "code",
   "execution_count": null,
   "metadata": {},
   "outputs": [],
   "source": []
  }
 ],
 "metadata": {
  "kernelspec": {
   "display_name": "Python 3",
   "language": "python",
   "name": "python3"
  },
  "language_info": {
   "codemirror_mode": {
    "name": "ipython",
    "version": 3
   },
   "file_extension": ".py",
   "mimetype": "text/x-python",
   "name": "python",
   "nbconvert_exporter": "python",
   "pygments_lexer": "ipython3",
   "version": "3.7.6"
  }
 },
 "nbformat": 4,
 "nbformat_minor": 4
}
